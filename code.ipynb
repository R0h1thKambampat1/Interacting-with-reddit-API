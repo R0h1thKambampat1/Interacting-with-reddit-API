{
 "cells": [
  {
   "cell_type": "markdown",
   "id": "8ce96331",
   "metadata": {},
   "source": [
    "# Importing the libraries"
   ]
  },
  {
   "cell_type": "code",
   "execution_count": 18,
   "id": "53cff1fd",
   "metadata": {},
   "outputs": [],
   "source": [
    "import praw\n",
    "import json"
   ]
  },
  {
   "cell_type": "markdown",
   "id": "42135874",
   "metadata": {},
   "source": [
    "# Obtaining the username, client_id, client_secret and password from a json file "
   ]
  },
  {
   "cell_type": "code",
   "execution_count": 20,
   "id": "ffec2699",
   "metadata": {},
   "outputs": [],
   "source": [
    "with open('credentials.json') as credentials:\n",
    "    credentials_data = json.load(credentials)"
   ]
  },
  {
   "cell_type": "markdown",
   "id": "7db17cfe",
   "metadata": {},
   "source": [
    "# Obtaining the subreddits data of interest"
   ]
  },
  {
   "cell_type": "code",
   "execution_count": 36,
   "id": "f8a3d4c4",
   "metadata": {},
   "outputs": [],
   "source": [
    "with open('subreddits.json') as subreddits:\n",
    "    subreddits_data = json.load(subreddits)\n",
    "subreddits_list = subreddits_data[\"subreddits\"]"
   ]
  },
  {
   "cell_type": "markdown",
   "id": "32dc05ec",
   "metadata": {},
   "source": [
    "# Extracting the credentials from the dictionary object"
   ]
  },
  {
   "cell_type": "code",
   "execution_count": 21,
   "id": "11c32f1e",
   "metadata": {},
   "outputs": [],
   "source": [
    "username = credentials_data['username']\n",
    "client_id = credentials_data['client_id']\n",
    "client_secret = credentials_data['client_secret']\n",
    "password = credentials_data['password']"
   ]
  },
  {
   "cell_type": "markdown",
   "id": "03b4ab86",
   "metadata": {},
   "source": [
    "# Creating a reddit instance using the python reddit API wrapper\n",
    "## The reddit class provides a gateway to interact with Reddit's API using the praw library"
   ]
  },
  {
   "cell_type": "code",
   "execution_count": 26,
   "id": "cf2d066f",
   "metadata": {},
   "outputs": [],
   "source": [
    "reddit_instance=praw.Reddit(\n",
    "    client_id=client_id,\n",
    "    client_secret=client_secret,\n",
    "    username=username,\n",
    "    password=password,\n",
    "    user_agent='test_bot'\n",
    ")"
   ]
  },
  {
   "cell_type": "markdown",
   "id": "087178f9",
   "metadata": {},
   "source": [
    "# Obtaining the top 10 posts in the subreddits list"
   ]
  },
  {
   "cell_type": "code",
   "execution_count": 47,
   "id": "009978b0",
   "metadata": {},
   "outputs": [],
   "source": [
    "top_10_posts = {}\n",
    "for data in subreddits_list:\n",
    "    subreddit = reddit_instance.subreddit(data)\n",
    "    top_10_submissions = subreddit.top(limit=10,time_filter='all')\n",
    "    top_10_posts[data]=[]\n",
    "    for submission in top_10_submissions:\n",
    "        top_10_posts[data].append(submission.title)"
   ]
  },
  {
   "cell_type": "markdown",
   "id": "34ed315a",
   "metadata": {},
   "source": [
    "# Writing the top and hot posts to a json file"
   ]
  },
  {
   "cell_type": "code",
   "execution_count": 58,
   "id": "bbda0df9",
   "metadata": {},
   "outputs": [],
   "source": [
    "with open(\"top_10_posts.json\", \"w\") as outfile: \n",
    "    json.dump(top_10_posts, outfile)\n",
    "with open(\"hot_10_posts.json\", \"w\") as outfile:\n",
    "    json.dump(hot_10_posts, outfile)"
   ]
  },
  {
   "cell_type": "markdown",
   "id": "e45c6266",
   "metadata": {},
   "source": [
    "# Obtaining the hot 10 posts in the subreddits list"
   ]
  },
  {
   "cell_type": "code",
   "execution_count": 50,
   "id": "73ac9425",
   "metadata": {},
   "outputs": [],
   "source": [
    "hot_10_posts = {}\n",
    "for data in subreddits_list:\n",
    "    subreddit = reddit_instance.subreddit(data)\n",
    "    hot_10_submissions = subreddit.hot(limit=10)\n",
    "    hot_10_posts[data]=[]\n",
    "    for submission in hot_10_submissions:\n",
    "        hot_10_posts[data].append(submission.title)"
   ]
  },
  {
   "cell_type": "markdown",
   "id": "fb0ded3d",
   "metadata": {},
   "source": [
    "# Submitting a post to a subreddit"
   ]
  },
  {
   "cell_type": "markdown",
   "id": "f1589b1d",
   "metadata": {},
   "source": [
    "#### A subreddit titled testingground4bots as the name suggests is a subreddit which is used as a testing ground for bots"
   ]
  },
  {
   "cell_type": "code",
   "execution_count": 55,
   "id": "83811896",
   "metadata": {},
   "outputs": [
    {
     "data": {
      "text/plain": [
       "Submission(id='1d9ousu')"
      ]
     },
     "execution_count": 55,
     "metadata": {},
     "output_type": "execute_result"
    }
   ],
   "source": [
    "subreddit=reddit_instance.subreddit(\"testingground4bots\")\n",
    "subreddit.submit(title=\"This is a test post\", selftext=\"What's up?\")"
   ]
  },
  {
   "cell_type": "markdown",
   "id": "f7faad2d",
   "metadata": {},
   "source": [
    "# Accessing the reddit submission using the submission id"
   ]
  },
  {
   "cell_type": "code",
   "execution_count": 60,
   "id": "504365db",
   "metadata": {},
   "outputs": [
    {
     "name": "stdout",
     "output_type": "stream",
     "text": [
      "What's up?\n",
      "This is a test post\n"
     ]
    }
   ],
   "source": [
    "submission=reddit_instance.submission(\"1d9ousu\")\n",
    "print(submission.selftext)\n",
    "print(submission.title)"
   ]
  }
 ],
 "metadata": {
  "kernelspec": {
   "display_name": "Python 3 (ipykernel)",
   "language": "python",
   "name": "python3"
  },
  "language_info": {
   "codemirror_mode": {
    "name": "ipython",
    "version": 3
   },
   "file_extension": ".py",
   "mimetype": "text/x-python",
   "name": "python",
   "nbconvert_exporter": "python",
   "pygments_lexer": "ipython3",
   "version": "3.11.3"
  },
  "widgets": {
   "application/vnd.jupyter.widget-state+json": {
    "state": {},
    "version_major": 2,
    "version_minor": 0
   }
  }
 },
 "nbformat": 4,
 "nbformat_minor": 5
}
